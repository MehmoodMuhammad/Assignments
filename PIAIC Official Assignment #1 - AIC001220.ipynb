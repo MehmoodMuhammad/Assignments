{
 "cells": [
  {
   "cell_type": "markdown",
   "metadata": {},
   "source": [
    "# Area of a Circle"
   ]
  },
  {
   "cell_type": "code",
   "execution_count": 32,
   "metadata": {},
   "outputs": [
    {
     "name": "stdout",
     "output_type": "stream",
     "text": [
      "Length of radius = 0.5\n",
      "Area of circle with radius 0.5 is 0.7853981633974483 sq units\n"
     ]
    }
   ],
   "source": [
    "import math #I have leanrned about math library from the internet\n",
    "radius = float(input(\"Length of radius = \"))\n",
    "area = math.pi * ( radius  ** 2)\n",
    "print (f\"Area of circle with radius {radius} is {area} sq units\")"
   ]
  },
  {
   "cell_type": "markdown",
   "metadata": {},
   "source": [
    "# Checking whether the entered Number positive, negative or zero"
   ]
  },
  {
   "cell_type": "code",
   "execution_count": 23,
   "metadata": {},
   "outputs": [
    {
     "name": "stdout",
     "output_type": "stream",
     "text": [
      "Enter number = -1\n",
      "Negative Number Entered\n"
     ]
    }
   ],
   "source": [
    "number = int(input (\"Enter number = \"))\n",
    "\n",
    "if number > 0:\n",
    "    print (\"Positive Number Entered\")\n",
    "elif number < 0:\n",
    "    print (\"Negative Number Entered\")\n",
    "else :\n",
    "    print (\"Zero Entered\")"
   ]
  },
  {
   "cell_type": "code",
   "execution_count": 24,
   "metadata": {},
   "outputs": [
    {
     "name": "stdout",
     "output_type": "stream",
     "text": [
      "Enter number = 3\n",
      "Positive Number Entered\n"
     ]
    }
   ],
   "source": [
    "number = int(input (\"Enter number = \"))\n",
    "\n",
    "if number > 0:\n",
    "    print (\"Positive Number Entered\")\n",
    "elif number < 0:\n",
    "    print (\"Negative Number Entered\")\n",
    "else :\n",
    "    print (\"Zero Entered\")"
   ]
  },
  {
   "cell_type": "code",
   "execution_count": 25,
   "metadata": {},
   "outputs": [
    {
     "name": "stdout",
     "output_type": "stream",
     "text": [
      "Enter number = 0\n",
      "Zero Entered\n"
     ]
    }
   ],
   "source": [
    "number = int(input (\"Enter number = \"))\n",
    "\n",
    "if number > 0:\n",
    "    print (\"Positive Number Entered\")\n",
    "elif number < 0:\n",
    "    print (\"Negative Number Entered\")\n",
    "else :\n",
    "    print (\"Zero Entered\")"
   ]
  },
  {
   "cell_type": "markdown",
   "metadata": {},
   "source": [
    "# Divisibility Check of two numbers"
   ]
  },
  {
   "cell_type": "code",
   "execution_count": 27,
   "metadata": {},
   "outputs": [
    {
     "name": "stdout",
     "output_type": "stream",
     "text": [
      "Enter numerator = 4\n",
      "Enter denominator = 2\n",
      "Number 4 is completely divisble by 2\n"
     ]
    }
   ],
   "source": [
    "numerator = int(input (\"Enter numerator = \"))\n",
    "denominator = int(input (\"Enter denominator = \"))\n",
    "if numerator % denominator == 0:\n",
    "    print (f\"Number {numerator} is completely divisble by {denominator}\")\n",
    "else:\n",
    "    print (f\"Number {numerator} is not completely divisble by {denominator}\")"
   ]
  },
  {
   "cell_type": "code",
   "execution_count": 28,
   "metadata": {},
   "outputs": [
    {
     "name": "stdout",
     "output_type": "stream",
     "text": [
      "Enter numerator = 7\n",
      "Enter denominator = 2\n",
      "Number 7 is not completely divisble by 2\n"
     ]
    }
   ],
   "source": [
    "numerator = int(input (\"Enter numerator = \"))\n",
    "denominator = int(input (\"Enter denominator = \"))\n",
    "if numerator % denominator == 0:\n",
    "    print (f\"Number {numerator} is completely divisble by {denominator}\")\n",
    "else:\n",
    "    print (f\"Number {numerator} is not completely divisble by {denominator}\")"
   ]
  },
  {
   "cell_type": "markdown",
   "metadata": {},
   "source": [
    "# Calculating Volume of a Sphere"
   ]
  },
  {
   "cell_type": "code",
   "execution_count": 31,
   "metadata": {
    "scrolled": true
   },
   "outputs": [
    {
     "name": "stdout",
     "output_type": "stream",
     "text": [
      "Length of radius = 1\n",
      "Volume of sphere with radius 1.0 is 4.1887902047863905 cube units\n"
     ]
    }
   ],
   "source": [
    "import math\n",
    "radius = float(input(\"Length of radius = \"))\n",
    "volume = math.pi * ( radius  ** 3) * (4/3)\n",
    "print (f\"Volume of sphere with radius {radius} is {volume} cube units\")"
   ]
  },
  {
   "cell_type": "markdown",
   "metadata": {},
   "source": [
    "# Copying string n Times"
   ]
  },
  {
   "cell_type": "code",
   "execution_count": 45,
   "metadata": {},
   "outputs": [
    {
     "name": "stdout",
     "output_type": "stream",
     "text": [
      "Enter string  HI\n",
      "How many copies do you want? = 4\n",
      "4 Copies of HI are HIHIHIHI\n"
     ]
    }
   ],
   "source": [
    "word = input(\"Enter string  \")\n",
    "n = int(input(\"How many copies do you want? = \"))\n",
    "copies = word * n\n",
    "print (f\"{n} Copies of {word} are {copies}\")"
   ]
  },
  {
   "cell_type": "markdown",
   "metadata": {},
   "source": [
    "# Checking whether the entered number is Even or Odd"
   ]
  },
  {
   "cell_type": "code",
   "execution_count": 48,
   "metadata": {},
   "outputs": [
    {
     "name": "stdout",
     "output_type": "stream",
     "text": [
      "Enter number = 4\n",
      "4 is Even\n"
     ]
    }
   ],
   "source": [
    "number = int(input(\"Enter number = \"))\n",
    "if number % 2 == 0:\n",
    "    print (f\"{number} is Even\")\n",
    "else:\n",
    "    print(f\"{number} is Odd\")\n"
   ]
  },
  {
   "cell_type": "code",
   "execution_count": 49,
   "metadata": {},
   "outputs": [
    {
     "name": "stdout",
     "output_type": "stream",
     "text": [
      "Enter number = 9\n",
      "9 is Odd\n"
     ]
    }
   ],
   "source": [
    "number = int(input(\"Enter number = \"))\n",
    "if number % 2 == 0:\n",
    "    print (f\"{number} is Even\")\n",
    "else:\n",
    "    print(f\"{number} is Odd\")\n"
   ]
  },
  {
   "cell_type": "markdown",
   "metadata": {},
   "source": [
    "# Vowel Tester"
   ]
  },
  {
   "cell_type": "code",
   "execution_count": 71,
   "metadata": {},
   "outputs": [
    {
     "name": "stdout",
     "output_type": "stream",
     "text": [
      "Enter a characterA\n",
      "The character a is vowel\n"
     ]
    }
   ],
   "source": [
    "char=input(\"Enter a character\").lower()\n",
    "\n",
    "if (char==\"a\" or char==\"e\" or char==\"i\" or char==\"o\" or char==\"u\"):\n",
    "    print(f'The character {char} is vowel')\n",
    "else:\n",
    "    print (f\"The chracter {char} is consonanat\")"
   ]
  },
  {
   "cell_type": "code",
   "execution_count": 72,
   "metadata": {},
   "outputs": [
    {
     "name": "stdout",
     "output_type": "stream",
     "text": [
      "Enter a characteri\n",
      "The character i is vowel\n"
     ]
    }
   ],
   "source": [
    "char=input(\"Enter a character\").lower()\n",
    "\n",
    "if (char==\"a\" or char==\"e\" or char==\"i\" or char==\"o\" or char==\"u\"):\n",
    "    print(f'The character {char} is vowel')\n",
    "else:\n",
    "    print (f\"The chracter {char} is consonanat\")"
   ]
  },
  {
   "cell_type": "code",
   "execution_count": 73,
   "metadata": {},
   "outputs": [
    {
     "name": "stdout",
     "output_type": "stream",
     "text": [
      "Enter a characterN\n",
      "The chracter n is consonanat\n"
     ]
    }
   ],
   "source": [
    "char=input(\"Enter a character\").lower()\n",
    "\n",
    "if (char==\"a\" or char==\"e\" or char==\"i\" or char==\"o\" or char==\"u\"):\n",
    "    print(f'The character {char} is vowel')\n",
    "else:\n",
    "    print (f\"The chracter {char} is consonanat\")"
   ]
  },
  {
   "cell_type": "markdown",
   "metadata": {},
   "source": [
    "# Area of Triangle"
   ]
  },
  {
   "cell_type": "code",
   "execution_count": 75,
   "metadata": {},
   "outputs": [
    {
     "name": "stdout",
     "output_type": "stream",
     "text": [
      "Enter height of triangle = 4\n",
      "Enter base of triangle = 3\n",
      "The area of triangle is 6.0\n"
     ]
    }
   ],
   "source": [
    "height = int(input (\"Enter height of triangle = \"))\n",
    "base = int(input(\"Enter base of triangle = \"))\n",
    "area = 0.5 * height * base\n",
    "print (f\"The area of triangle is {area}\")"
   ]
  },
  {
   "cell_type": "markdown",
   "metadata": {},
   "source": [
    "# Calculting Interest"
   ]
  },
  {
   "cell_type": "code",
   "execution_count": 86,
   "metadata": {},
   "outputs": [
    {
     "name": "stdout",
     "output_type": "stream",
     "text": [
      "Enter principal amount = 10000\n",
      "Enter Rate of Interest = 0.1\n",
      "Enter number of years for investment = 5\n",
      "After 5.0 years your principal amount 10000.0 over an interest rate of 0.1 % will be 10600.0\n"
     ]
    }
   ],
   "source": [
    "amount = float(input (\"Enter principal amount = \"))\n",
    "rate = float(input(\"Enter Rate of Interest = \"))\n",
    "years = float(input(\"Enter number of years for investment = \"))\n",
    "interest = amount * years * 12 * (rate/100)\n",
    "total = amount + interest\n",
    "print (f\"After {years} years your principal amount {amount} over an interest rate of {rate} % will be {total}\")"
   ]
  },
  {
   "cell_type": "markdown",
   "metadata": {},
   "source": [
    "# Euclidean Distance"
   ]
  },
  {
   "cell_type": "code",
   "execution_count": 3,
   "metadata": {},
   "outputs": [
    {
     "name": "stdout",
     "output_type": "stream",
     "text": [
      "Enter Co-ordinate for x1 = 2\n",
      "Enter Co-ordinate for x2 = 4\n",
      "Enter Co-ordinate for y1 = 4\n",
      "Enter Co-ordinate for y2 = 4\n",
      "Distance between points (2, 4) and (4, 4) is 2.0\n"
     ]
    }
   ],
   "source": [
    "x1 = int(input(\"Enter Co-ordinate for x1 = \"))\n",
    "x2 = int(input(\"Enter Co-ordinate for x2 = \"))\n",
    "y1 = int(input(\"Enter Co-ordinate for y1 = \"))\n",
    "y2 = int(input(\"Enter Co-ordinate for y2 = \"))\n",
    "\n",
    "distance = (((x1 - x2 )** 2) + ((y1 - y2) ** 2)) ** 0.5\n",
    "\n",
    "print(f\"Distance between points ({x1}, {x2}) and ({y1}, {y2}) is {distance}\")"
   ]
  },
  {
   "cell_type": "markdown",
   "metadata": {},
   "source": [
    "# Feet to Centimeter Converter"
   ]
  },
  {
   "cell_type": "code",
   "execution_count": 5,
   "metadata": {},
   "outputs": [
    {
     "name": "stdout",
     "output_type": "stream",
     "text": [
      "Enter Length in feet = 5\n",
      "There are 152.4 cm in 5 ft\n"
     ]
    }
   ],
   "source": [
    "length_ft = int(input(\"Enter Length in feet = \"))\n",
    "\n",
    "length_cm = length_ft * 30.48\n",
    "\n",
    "print(f\"There are {length_cm} cm in {length_ft} ft\")"
   ]
  },
  {
   "cell_type": "markdown",
   "metadata": {},
   "source": [
    "# BMI Calculator"
   ]
  },
  {
   "cell_type": "code",
   "execution_count": 1,
   "metadata": {},
   "outputs": [
    {
     "name": "stdout",
     "output_type": "stream",
     "text": [
      "Enter Height in Cm: 180\n",
      "Enter Weight in Kg: 75\n",
      "23.148148148148145\n"
     ]
    }
   ],
   "source": [
    "height = int(input(\"Enter Height in Cm: \"))\n",
    "weight = int(input(\"Enter Weight in Kg: \"))\n",
    "\n",
    "BMI =  (weight / (height ** 2)) * 10000\n",
    "\n",
    "print (BMI)"
   ]
  },
  {
   "cell_type": "markdown",
   "metadata": {},
   "source": [
    "# Sum of n Positive Integers"
   ]
  },
  {
   "cell_type": "code",
   "execution_count": 5,
   "metadata": {},
   "outputs": [
    {
     "name": "stdout",
     "output_type": "stream",
     "text": [
      "Enter value of n = 5\n",
      "15\n"
     ]
    }
   ],
   "source": [
    "n = int(input(\"Enter value of n = \"))\n",
    "total_sum = 0\n",
    "for x in range(1,n+1):\n",
    "    total_sum = total_sum + x\n",
    "5print(total_sum)"
   ]
  },
  {
   "cell_type": "markdown",
   "metadata": {},
   "source": [
    "# Digits Sum of a Number"
   ]
  },
  {
   "cell_type": "code",
   "execution_count": 19,
   "metadata": {},
   "outputs": [
    {
     "name": "stdout",
     "output_type": "stream",
     "text": [
      "Enter value of n = 15\n",
      "The sum of digits in 15 is 6\n"
     ]
    }
   ],
   "source": [
    "num = (input(\"Enter value of n = \"))\n",
    "total_sum = 0\n",
    "for x in num:\n",
    "    total_sum = total_sum + int(x)\n",
    "print(f\"The sum of digits in {num} is {total_sum}\")"
   ]
  },
  {
   "cell_type": "code",
   "execution_count": 18,
   "metadata": {},
   "outputs": [
    {
     "name": "stdout",
     "output_type": "stream",
     "text": [
      "Enter value of n = 1234\n",
      "The sum of digits in 1234 is 10\n"
     ]
    }
   ],
   "source": [
    "num = (input(\"Enter value of n = \"))\n",
    "total_sum = 0\n",
    "for x in num:\n",
    "    total_sum = total_sum + int(x)\n",
    "print(f\"The sum of digits in {num} is {total_sum}\")"
   ]
  },
  {
   "cell_type": "code",
   "execution_count": null,
   "metadata": {},
   "outputs": [],
   "source": []
  }
 ],
 "metadata": {
  "kernelspec": {
   "display_name": "Python 3",
   "language": "python",
   "name": "python3"
  },
  "language_info": {
   "codemirror_mode": {
    "name": "ipython",
    "version": 3
   },
   "file_extension": ".py",
   "mimetype": "text/x-python",
   "name": "python",
   "nbconvert_exporter": "python",
   "pygments_lexer": "ipython3",
   "version": "3.7.3"
  }
 },
 "nbformat": 4,
 "nbformat_minor": 2
}
